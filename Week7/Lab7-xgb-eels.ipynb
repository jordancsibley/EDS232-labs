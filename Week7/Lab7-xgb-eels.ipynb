{
 "cells": [
  {
   "cell_type": "markdown",
   "id": "b6e8c422-cc19-4d89-8f96-003c36cf7c33",
   "metadata": {},
   "source": [
    "## Lab 7: Eel Distribution Modeling with XGBoost\n",
    "\n",
    "**Reference Paper:** [Elith et al. (2008)](https://ucsb.box.com/s/6k7636wsbogdg3orarxrlowke0ounbic)\n",
    "\n",
    "In this lab, you will model the distribution of the eel species *Anguilla australis* using **boosted classification trees (BCTs)**, a machine learning technique that improves predictive performance by combining multiple decision trees. Elith et al. (2008) offered an early implementation of BRTs in an ecological setting to understand how environmental variables influence eel distribution.\n",
    "\n",
    "You will work with **two datasets**:\n",
    "1. **Training Data** – Used to build and evaluate your XGBoost model.\n",
    "2. **Evaluation Data** – Used to assess model performance on unseen data.\n",
    "\n",
    "To achieve the following objectives:\n",
    "- Train and fine-tune an **XGBoost** model for classification of species presence/absence data.\n",
    "- Compare your model’s performance to the approach used by Elith et al.\n",
    "\n",
    "\n",
    "**Wherever applicable in this lab, use a random state of 808.**"
   ]
  },
  {
   "cell_type": "markdown",
   "id": "ac39e743-8686-4f51-85ee-7c1925002f5f",
   "metadata": {},
   "source": [
    "### Step 0: Load libraries and data\n"
   ]
  },
  {
   "cell_type": "code",
   "execution_count": 1,
   "id": "dd687480-182a-4416-9cdd-10eb33d147d1",
   "metadata": {
    "tags": []
   },
   "outputs": [],
   "source": [
    "import pandas as pd\n",
    "from sklearn.model_selection import train_test_split,RandomizedSearchCV\n",
    "from sklearn.preprocessing import LabelEncoder\n",
    "import xgboost as xgb\n",
    "from xgboost import XGBClassifier\n",
    "from sklearn.metrics import roc_auc_score\n",
    "from scipy.stats import uniform, randint\n",
    "\n",
    "# Download the datasets\n",
    "model_data = pd.read_csv(\"/courses/EDS232/Data/model.data.csv\").drop(columns=['Site'])\n",
    "eval_data = pd.read_csv(\"/courses/EDS232/Data/eval.data.csv\")"
   ]
  },
  {
   "cell_type": "markdown",
   "id": "21e16c25",
   "metadata": {},
   "source": [
    "### Step 1:Initial Data Preprocessing\n",
    "Let's get started by preparing our data. `Angaus` will be our target variable(`y`), and all other variables will be our features (`X`). Then encode the categorical feature using `LabelEncoder()`. The final step will be a bit different this time.  We don't need to split off testing data for the final model evaluation; a separate set (`eval_data`) will be used as in Elith et al.  We do, however, need to split our data in order to do the early stopping process. When splitting your data into training and validation, use a test size of 0.2 and a random state of 808. "
   ]
  },
  {
   "cell_type": "code",
   "execution_count": 2,
   "id": "92f8a3c0",
   "metadata": {
    "tags": []
   },
   "outputs": [
    {
     "name": "stdout",
     "output_type": "stream",
     "text": [
      "   Angaus  SegSumT  SegTSeas  SegLowFlow  DSDist  DSMaxSlope  USAvgT  \\\n",
      "0       0     16.0     -0.10       1.036   50.20        0.57    0.09   \n",
      "1       1     18.7      1.51       1.003  132.53        1.15    0.20   \n",
      "2       0     18.3      0.37       1.001  107.44        0.57    0.49   \n",
      "3       0     16.7     -3.80       1.000  166.82        1.72    0.90   \n",
      "4       1     17.2      0.33       1.005    3.95        1.15   -1.20   \n",
      "\n",
      "   USRainDays  USSlope  USNative  DSDam    Method  LocSed  \n",
      "0       2.470      9.8      0.81      0  electric     4.8  \n",
      "1       1.153      8.3      0.34      0  electric     2.0  \n",
      "2       0.847      0.4      0.00      0       spo     1.0  \n",
      "3       0.210      0.4      0.22      1  electric     4.0  \n",
      "4       1.980     21.9      0.96      0  electric     4.7  \n",
      "\n",
      " Data types: Angaus          int64\n",
      "SegSumT       float64\n",
      "SegTSeas      float64\n",
      "SegLowFlow    float64\n",
      "DSDist        float64\n",
      "DSMaxSlope    float64\n",
      "USAvgT        float64\n",
      "USRainDays    float64\n",
      "USSlope       float64\n",
      "USNative      float64\n",
      "DSDam           int64\n",
      "Method         object\n",
      "LocSed        float64\n",
      "dtype: object\n"
     ]
    }
   ],
   "source": [
    "# View data structure \n",
    "print(model_data.head())\n",
    "\n",
    "print(f\"\\n Data types: {model_data.dtypes}\")"
   ]
  },
  {
   "cell_type": "code",
   "execution_count": 3,
   "id": "c6892218-b054-45df-89b2-14322f4011a4",
   "metadata": {
    "tags": []
   },
   "outputs": [],
   "source": [
    "# Encode categorical feature, Method, using LabelEncoder\n",
    "label_encoder = LabelEncoder()\n",
    "model_data['Method'] = label_encoder.fit_transform(model_data['Method'])\n",
    "\n",
    "# Repeat encode for eval data \n",
    "eval_data['Method'] = label_encoder.fit_transform(eval_data['Method'])\n",
    "\n",
    "# Define features \n",
    "X = model_data.drop('Angaus', axis =1)\n",
    "y = model_data['Angaus']\n",
    "\n",
    "\n",
    "# Split data for the early stopping process\n",
    "X_train, X_val , y_train, y_val = train_test_split(X, y, test_size = 0.2, random_state = 808)\n"
   ]
  },
  {
   "cell_type": "markdown",
   "id": "e025a34e",
   "metadata": {},
   "source": [
    "### Step 2: Determine best number of trees using early stopping\n",
    "As a guard against overfitting while maximizing performance, we use **early stopping**. We start with a large number of trees and allow XGBoost to determine the optimal number by stopping training when the validation error no longer improves.\n",
    "\n",
    "The choice of hyperparameter starting values is important in this process. We begin with:\n",
    "- `n_estimators=1000` to ensure the model has enough capacity to learn meaningful patterns.\n",
    "- `learning_rate=0.1` as a reasonable default that balances learning speed and performance.\n",
    "- `eval_metric=\"logloss\"` as the metric of performance to optimize.\n",
    "- `early_stopping_rounds=50` to halt training if no improvement is seen for 50 rounds, preventing unnecessary computations.\n",
    "- `random_state = 808`\n",
    "\n",
    "We then `fit()` our specified baseline model, passing in the training sets as usual and specifying validation sets values for the `eval_set` parameter.\n",
    "\n",
    "Finally, get and print the best number of trees from the fitted baseline model.\n"
   ]
  },
  {
   "cell_type": "code",
   "execution_count": 4,
   "id": "55bf0fa0",
   "metadata": {
    "tags": []
   },
   "outputs": [
    {
     "name": "stdout",
     "output_type": "stream",
     "text": [
      "Best number of trees: 34\n"
     ]
    }
   ],
   "source": [
    "# Define XGBoost model \n",
    "model = xgb.XGBClassifier(n_estimators=  1000,\n",
    "                              learning_rate=  0.1, \n",
    "                              early_stopping_rounds = 50,\n",
    "                              eval_metric=  \"logloss\",\n",
    "                              random_state = 808,\n",
    "                              n_jobs=-1\n",
    "                         )\n",
    "# Fit model to training model \n",
    "model.fit(X_train, y_train, eval_set=[(X_val, y_val)], verbose = 0)\n",
    "\n",
    "print(f\"Best number of trees: {model.best_iteration}\")\n",
    "best_trees = model.best_iteration"
   ]
  },
  {
   "cell_type": "markdown",
   "id": "95ac1456",
   "metadata": {},
   "source": [
    "### Step 3: Tune Learning Rate\n",
    "\n",
    "The (`learning_rate` hyperparameter controls how much each tree contributes to improving the model's performance. A *higher* learning rate allows the model to learn quickly but risks missing the optimal solution and overfitting, while a *lower* learning rate makes learning slower but can improve generalization.\n",
    "\n",
    "To find the optimal value, we'll use **randomized search cross-validation** (`RandomizedSearchCV`) to test different learning rates in the 0.01 to 0.3 range. Instead of testing every possible value, this method samples a set number of candidates (`n_iter`) from a defined parameter distribution.  In this case, sampling 20 candidates from a uniform distribution between `0.01` and `0.31`. Check out the [documentation](https://docs.scipy.org/doc/scipy/reference/generated/scipy.stats.uniform.html) on `scipy.stats.uniform` to see how it differs from `random.uniform`. Be sure to use a random state of 808.\n",
    "\n",
    "After using `RandomizedSearchCV`, fit your model. Print the best learning rate. \n"
   ]
  },
  {
   "cell_type": "code",
   "execution_count": 6,
   "id": "adf1946d-0d46-4a37-9900-8d074af53cd9",
   "metadata": {
    "tags": []
   },
   "outputs": [
    {
     "data": {
      "text/plain": [
       "RandomizedSearchCV(cv=5,\n",
       "                   estimator=XGBClassifier(base_score=None, booster=None,\n",
       "                                           callbacks=None,\n",
       "                                           colsample_bylevel=None,\n",
       "                                           colsample_bynode=None,\n",
       "                                           colsample_bytree=None,\n",
       "                                           early_stopping_rounds=50,\n",
       "                                           enable_categorical=False,\n",
       "                                           eval_metric='logloss', gamma=None,\n",
       "                                           gpu_id=None, grow_policy=None,\n",
       "                                           importance_type=None,\n",
       "                                           interaction_constraints=None,\n",
       "                                           learning_rate=None, max_bin=No...\n",
       "                                           max_delta_step=None, max_depth=None,\n",
       "                                           max_leaves=None,\n",
       "                                           min_child_weight=None, missing=nan,\n",
       "                                           monotone_constraints=None,\n",
       "                                           n_estimators=34, n_jobs=-1,\n",
       "                                           num_parallel_tree=None,\n",
       "                                           predictor=None, random_state=808,\n",
       "                                           reg_alpha=None, reg_lambda=None, ...),\n",
       "                   n_iter=20,\n",
       "                   param_distributions={'learning_rate': <scipy.stats._distn_infrastructure.rv_frozen object at 0x7f2b74340d50>},\n",
       "                   random_state=808, scoring='accuracy')"
      ]
     },
     "execution_count": 6,
     "metadata": {},
     "output_type": "execute_result"
    }
   ],
   "source": [
    "# Re define model \n",
    "model2 = xgb.XGBClassifier(n_estimators = best_trees,\n",
    "                           eval_metric=\"logloss\",\n",
    "                           early_stopping_rounds=50,\n",
    "                           random_state = 808, \n",
    "                           n_jobs = -1)\n",
    "\n",
    "# Define parameters \n",
    "params = {\n",
    "    \"learning_rate\": uniform(0.01, 0.3)\n",
    "}\n",
    "\n",
    "# Run random search \n",
    "random_search = RandomizedSearchCV(model2, \n",
    "                                  params, \n",
    "                                  n_iter=20, \n",
    "                                  scoring=\"accuracy\",\n",
    "                                  cv=5, \n",
    "                                  verbose =0, \n",
    "                                  random_state=808)\n",
    "\n",
    "# Run random search \n",
    "random_search.fit(X_train, y_train, eval_set=[(X_val, y_val)], verbose = 0)"
   ]
  },
  {
   "cell_type": "code",
   "execution_count": 7,
   "id": "4e48c112-ea60-4105-8566-c480214e7c1c",
   "metadata": {
    "tags": []
   },
   "outputs": [
    {
     "name": "stdout",
     "output_type": "stream",
     "text": [
      "The best learning rate: {'learning_rate': 0.07485018543633809}\n"
     ]
    }
   ],
   "source": [
    "# Determing best learning rate \n",
    "print(f'The best learning rate: {random_search.best_params_}')\n",
    "best_learning_rate = random_search.best_params_['learning_rate']"
   ]
  },
  {
   "cell_type": "markdown",
   "id": "71907b11",
   "metadata": {},
   "source": [
    "### Step 4: Tune Tree-Specific Parameters\n",
    "\n",
    "Now that we've determined the best number of tree and learning rate, we need to tune the complexity of individual trees in our model. Initialize your model with the best number of trees and learning rate.Then, define a parameter dictionary that takes on the following values:  \n",
    "\n",
    "- `max_depth`(Controls how deep each tree can grow.  Takes integer values): A random integer from 3 to 10 ( inclusive of 3 and 10)\n",
    "- `min_child_weight`( Determines the minimum number of samples required in a leaf node. Takes integer values) : A random integer from 1 to 10 ( inclusive of 1 and 10)\n",
    "- `gamma` (Defines the minimum loss reduction needed to make a further split in a tree. Can take on values from a continuous range):  A uniform distribution from 0.05 to 0.10 - once again remember to check the `scipy.stats.uniform()` documentation! \n",
    "- `random_state = 808`\n",
    "\n",
    "To find the best combination, we again use `RandomizedSearchCV`, allowing us to efficiently sample hyperparameters and evaluate different configurations using cross-validation. After fitting the model, print the best parameters. \n",
    "\n"
   ]
  },
  {
   "cell_type": "code",
   "execution_count": 8,
   "id": "f3d413c7-4b61-46d3-a6d8-c14140eca6bc",
   "metadata": {
    "tags": []
   },
   "outputs": [
    {
     "data": {
      "text/plain": [
       "RandomizedSearchCV(cv=5,\n",
       "                   estimator=XGBClassifier(base_score=None, booster=None,\n",
       "                                           callbacks=None,\n",
       "                                           colsample_bylevel=None,\n",
       "                                           colsample_bynode=None,\n",
       "                                           colsample_bytree=None,\n",
       "                                           early_stopping_rounds=50,\n",
       "                                           enable_categorical=False,\n",
       "                                           eval_metric='logloss', gamma=None,\n",
       "                                           gpu_id=None, grow_policy=None,\n",
       "                                           importance_type=None,\n",
       "                                           interaction_constraints=None,\n",
       "                                           learning_rate=0.0748501854363...\n",
       "                                           predictor=None, random_state=808,\n",
       "                                           reg_alpha=None, reg_lambda=None, ...),\n",
       "                   n_iter=20,\n",
       "                   param_distributions={'gamma': <scipy.stats._distn_infrastructure.rv_frozen object at 0x7f2b721bedd0>,\n",
       "                                        'max_depth': <scipy.stats._distn_infrastructure.rv_frozen object at 0x7f2b7307d650>,\n",
       "                                        'min_child_weight': <scipy.stats._distn_infrastructure.rv_frozen object at 0x7f2b7214bb50>},\n",
       "                   random_state=808, scoring='accuracy')"
      ]
     },
     "execution_count": 8,
     "metadata": {},
     "output_type": "execute_result"
    }
   ],
   "source": [
    "# Re define model \n",
    "model3 = xgb.XGBClassifier(n_estimators = best_trees,\n",
    "                           learning_rate = best_learning_rate,\n",
    "                           eval_metric=\"logloss\",\n",
    "                           early_stopping_rounds=50,\n",
    "                           random_state = 808, \n",
    "                           n_jobs = -1)\n",
    "\n",
    "# Define parameters \n",
    "params = {\n",
    "    \"max_depth\": randint(3,11),\n",
    "    \"min_child_weight\": randint(1,11),  \n",
    "    \"gamma\": uniform(0.05,0.1)\n",
    "}\n",
    "\n",
    "# Run random search \n",
    "random_search2 = RandomizedSearchCV(model3, \n",
    "                                  params, \n",
    "                                  n_iter=20, \n",
    "                                  scoring=\"accuracy\",\n",
    "                                  cv=5, \n",
    "                                  verbose =0, \n",
    "                                  random_state=808)\n",
    "# Run random search \n",
    "random_search2.fit(X_train, y_train, eval_set=[(X_val, y_val)], verbose = 0)"
   ]
  },
  {
   "cell_type": "code",
   "execution_count": 9,
   "id": "794460f4-bbfc-4806-a157-1b829df15ebf",
   "metadata": {
    "tags": []
   },
   "outputs": [
    {
     "name": "stdout",
     "output_type": "stream",
     "text": [
      "Best parameters: {'gamma': 0.09587121646965052, 'max_depth': 5, 'min_child_weight': 4}\n"
     ]
    }
   ],
   "source": [
    "# View best parameters \n",
    "print(f'Best parameters: {random_search2.best_params_}')\n",
    "best_tree_parameters = random_search2.best_params_"
   ]
  },
  {
   "cell_type": "markdown",
   "id": "2168bf81",
   "metadata": {},
   "source": [
    "### Step 5: Tune Stochastic Components\n",
    "\n",
    "Now, we are finally ready to tune the stochastic components of the XGBoost model.  These parameters help prevent overfitting by reducing correlation between trees. Initialize your model with the best number of trees, best learning rate,and your optimized tree values (**Note**: you can use \\**best_tree_parameters to unpack the the dictionary of optimzed tree values) .Then, define a parameter dictionary that takes on the following values:  \n",
    "\n",
    "- `subsample` (Controls the fraction of training samples used for each boosting round) : A uniform distribution between .5 and .10 (remeber to check `scipy.stats.uniform()` documentation! )\n",
    "- `colsample_bytree`(Specifies the fraction of features to consider when building each tree) : A uniform distribution between .5 and .10\n",
    "- `random_state = 808`\n",
    "\n",
    "We again use `RandomizedSearchCV` to find the best combination of these parameters. After fitting the model, print the best parameters. \n"
   ]
  },
  {
   "cell_type": "code",
   "execution_count": 10,
   "id": "32a61aee-57b1-470b-aa07-488dbe70f898",
   "metadata": {
    "tags": []
   },
   "outputs": [
    {
     "data": {
      "text/plain": [
       "RandomizedSearchCV(cv=5,\n",
       "                   estimator=XGBClassifier(base_score=None, booster=None,\n",
       "                                           callbacks=None,\n",
       "                                           colsample_bylevel=None,\n",
       "                                           colsample_bynode=None,\n",
       "                                           colsample_bytree=None,\n",
       "                                           early_stopping_rounds=50,\n",
       "                                           enable_categorical=False,\n",
       "                                           eval_metric=None,\n",
       "                                           gamma=0.09587121646965052,\n",
       "                                           gpu_id=None, grow_policy=None,\n",
       "                                           importance_type=None,\n",
       "                                           interaction_constraints=None,\n",
       "                                           learning_rate=0.074...\n",
       "                                           n_estimators=34, n_jobs=-1,\n",
       "                                           num_parallel_tree=None,\n",
       "                                           predictor=None, random_state=808,\n",
       "                                           reg_alpha=None, reg_lambda=None, ...),\n",
       "                   n_iter=20,\n",
       "                   param_distributions={'colsample_bytree': <scipy.stats._distn_infrastructure.rv_frozen object at 0x7f2b7217c690>,\n",
       "                                        'subsample': <scipy.stats._distn_infrastructure.rv_frozen object at 0x7f2c181b2290>},\n",
       "                   random_state=808, scoring='accuracy')"
      ]
     },
     "execution_count": 10,
     "metadata": {},
     "output_type": "execute_result"
    }
   ],
   "source": [
    "# Re define model \n",
    "model4 = xgb.XGBClassifier(n_estimators = best_trees,\n",
    "                           learning_rate = best_learning_rate,\n",
    "                           **best_tree_parameters,\n",
    "                           early_stopping_rounds=50,\n",
    "                           random_state = 808, \n",
    "                           n_jobs = -1)\n",
    "\n",
    "# Define parameters \n",
    "params = {\n",
    "    \"subsample\": uniform(0.5,0.5),\n",
    "    \"colsample_bytree\": uniform(0.5,0.5)\n",
    "}\n",
    "\n",
    "# Run random search \n",
    "random_search3 = RandomizedSearchCV(model4, \n",
    "                                  params, \n",
    "                                  n_iter=20, \n",
    "                                  scoring=\"accuracy\",\n",
    "                                  cv=5, \n",
    "                                  verbose =0, \n",
    "                                  random_state=808)\n",
    "# Run random search \n",
    "random_search3.fit(X_train, y_train, eval_set=[(X_val, y_val)], verbose = 0)"
   ]
  },
  {
   "cell_type": "code",
   "execution_count": 11,
   "id": "f1c94930-6678-4f2a-8484-dde1193dc5f6",
   "metadata": {},
   "outputs": [
    {
     "name": "stdout",
     "output_type": "stream",
     "text": [
      "Best parameters: {'colsample_bytree': 0.7672505595364525, 'subsample': 0.617966164783058}\n"
     ]
    }
   ],
   "source": [
    "# View best parameters \n",
    "print(f'Best parameters: {random_search3.best_params_}')\n",
    "best_stoc_parameters = random_search3.best_params_"
   ]
  },
  {
   "cell_type": "markdown",
   "id": "355cd2d2",
   "metadata": {},
   "source": [
    "### Step 6: Final Model Training and Evaluation\n",
    "\n",
    "With the best hyperparameters selected, we now train the final model on the full training dataset and evaluate it on the separate evaluation dataset.\n",
    "\n",
    "1. Prepare the evaluation data in the same manner as you did the training data\n",
    "\n",
    "2. Train final model using the best parameters found in previous tuning steps (`best_tree_params`, `best_stochastic_params`).Set  `eval_metric = \"logloss\"` \n",
    "\n",
    "3. Fit the model to the full training dataset and predict on the evaluation data \n"
   ]
  },
  {
   "cell_type": "code",
   "execution_count": 12,
   "id": "b68c8624-942b-4d1b-a665-77ca99685186",
   "metadata": {
    "scrolled": true,
    "tags": []
   },
   "outputs": [],
   "source": [
    "# Define features \n",
    "X_eval = eval_data.drop('Angaus_obs', axis = 1)\n",
    "y_eval = eval_data['Angaus_obs']\n",
    "\n",
    "# Train model using best parameters \n",
    "model_best = xgb.XGBClassifier(n_estimators = best_trees,\n",
    "                           learning_rate = best_learning_rate,\n",
    "                           **best_tree_parameters,\n",
    "                           **best_stoc_parameters, \n",
    "                           early_stopping_rounds=50,\n",
    "                           random_state = 808, \n",
    "                           n_jobs = -1)\n",
    "# Fit model to training data \n",
    "model_best.fit(X_train, y_train, eval_set=[(X_val, y_val)], verbose = 0)\n",
    "\n",
    "# Predict on eval data \n",
    "preds = model_best.predict(X_eval)"
   ]
  },
  {
   "cell_type": "markdown",
   "id": "1f39d80a",
   "metadata": {},
   "source": [
    "### Step 7: Model Performance\n",
    "\n",
    "Compute and print the AUC and feature importances for your model."
   ]
  },
  {
   "cell_type": "code",
   "execution_count": 13,
   "id": "cc9df468",
   "metadata": {
    "tags": []
   },
   "outputs": [
    {
     "name": "stdout",
     "output_type": "stream",
     "text": [
      "AUC Score: 0.870\n"
     ]
    },
    {
     "data": {
      "text/html": [
       "<div>\n",
       "<style scoped>\n",
       "    .dataframe tbody tr th:only-of-type {\n",
       "        vertical-align: middle;\n",
       "    }\n",
       "\n",
       "    .dataframe tbody tr th {\n",
       "        vertical-align: top;\n",
       "    }\n",
       "\n",
       "    .dataframe thead th {\n",
       "        text-align: right;\n",
       "    }\n",
       "</style>\n",
       "<table border=\"1\" class=\"dataframe\">\n",
       "  <thead>\n",
       "    <tr style=\"text-align: right;\">\n",
       "      <th></th>\n",
       "      <th>Feature</th>\n",
       "      <th>Importance</th>\n",
       "    </tr>\n",
       "  </thead>\n",
       "  <tbody>\n",
       "    <tr>\n",
       "      <th>0</th>\n",
       "      <td>SegSumT</td>\n",
       "      <td>0.209073</td>\n",
       "    </tr>\n",
       "    <tr>\n",
       "      <th>10</th>\n",
       "      <td>Method</td>\n",
       "      <td>0.119984</td>\n",
       "    </tr>\n",
       "    <tr>\n",
       "      <th>6</th>\n",
       "      <td>USRainDays</td>\n",
       "      <td>0.101490</td>\n",
       "    </tr>\n",
       "    <tr>\n",
       "      <th>8</th>\n",
       "      <td>USNative</td>\n",
       "      <td>0.100804</td>\n",
       "    </tr>\n",
       "    <tr>\n",
       "      <th>4</th>\n",
       "      <td>DSMaxSlope</td>\n",
       "      <td>0.083794</td>\n",
       "    </tr>\n",
       "    <tr>\n",
       "      <th>7</th>\n",
       "      <td>USSlope</td>\n",
       "      <td>0.072961</td>\n",
       "    </tr>\n",
       "    <tr>\n",
       "      <th>1</th>\n",
       "      <td>SegTSeas</td>\n",
       "      <td>0.069668</td>\n",
       "    </tr>\n",
       "    <tr>\n",
       "      <th>3</th>\n",
       "      <td>DSDist</td>\n",
       "      <td>0.069405</td>\n",
       "    </tr>\n",
       "    <tr>\n",
       "      <th>5</th>\n",
       "      <td>USAvgT</td>\n",
       "      <td>0.068352</td>\n",
       "    </tr>\n",
       "    <tr>\n",
       "      <th>11</th>\n",
       "      <td>LocSed</td>\n",
       "      <td>0.054479</td>\n",
       "    </tr>\n",
       "    <tr>\n",
       "      <th>2</th>\n",
       "      <td>SegLowFlow</td>\n",
       "      <td>0.049990</td>\n",
       "    </tr>\n",
       "    <tr>\n",
       "      <th>9</th>\n",
       "      <td>DSDam</td>\n",
       "      <td>0.000000</td>\n",
       "    </tr>\n",
       "  </tbody>\n",
       "</table>\n",
       "</div>"
      ],
      "text/plain": [
       "       Feature  Importance\n",
       "0      SegSumT    0.209073\n",
       "10      Method    0.119984\n",
       "6   USRainDays    0.101490\n",
       "8     USNative    0.100804\n",
       "4   DSMaxSlope    0.083794\n",
       "7      USSlope    0.072961\n",
       "1     SegTSeas    0.069668\n",
       "3       DSDist    0.069405\n",
       "5       USAvgT    0.068352\n",
       "11      LocSed    0.054479\n",
       "2   SegLowFlow    0.049990\n",
       "9        DSDam    0.000000"
      ]
     },
     "execution_count": 13,
     "metadata": {},
     "output_type": "execute_result"
    }
   ],
   "source": [
    "# Get probability predictions \n",
    "pred_probs = model_best.predict_proba(X_eval)[:, 1]\n",
    "\n",
    "# Calculate ROC & AUC score\n",
    "auc_score = roc_auc_score(y_eval, pred_probs)\n",
    "print(f\"AUC Score: {auc_score:.3f}\")\n",
    "\n",
    "# Determine feature importance\n",
    "feature_importance = pd.DataFrame({'Feature': X_train.columns, \n",
    "                                   'Importance': model_best.feature_importances_})\n",
    "# Sort by importance\n",
    "feature_importance = feature_importance.sort_values(by=\"Importance\", ascending=False)\n",
    "feature_importance"
   ]
  },
  {
   "cell_type": "markdown",
   "id": "7476ef1d",
   "metadata": {},
   "source": [
    "### Step 8: The comparison\n",
    "How does your model's performance compare to the of Elith et al. (See Tables 2 and 3)?  Is there another way to compare the models in addition to predictive performance?  Whose model wins in that regard?"
   ]
  },
  {
   "cell_type": "markdown",
   "id": "07dc2a69-bf1e-4442-ad9e-22dc26e0f2b3",
   "metadata": {
    "tags": []
   },
   "source": [
    "In terms of feature importance, my model and the model of the paper get most of the same answers, with `SegSumT` being the most important feature and `DSDam` being the least important. However, the rest of the order is a bit different. In terms of model performance, my model has a AUC score of 0.874 and the paper evaluates a score of 0·869. While the AUC is one of the most common ways to compare models, there are other strategies such as comparing interpretability and robustness. "
   ]
  }
 ],
 "metadata": {
  "kernelspec": {
   "display_name": "Python 3 (ipykernel)",
   "language": "python",
   "name": "python3"
  },
  "language_info": {
   "codemirror_mode": {
    "name": "ipython",
    "version": 3
   },
   "file_extension": ".py",
   "mimetype": "text/x-python",
   "name": "python",
   "nbconvert_exporter": "python",
   "pygments_lexer": "ipython3",
   "version": "3.7.13"
  }
 },
 "nbformat": 4,
 "nbformat_minor": 5
}
